{
 "cells": [
  {
   "cell_type": "markdown",
   "id": "b98305aa-07b6-44ed-afd7-de0f7d49b737",
   "metadata": {},
   "source": [
    "Q1. What is Abstraction in Oops? Explain with  an example. "
   ]
  },
  {
   "cell_type": "code",
   "execution_count": null,
   "id": "3df42807-8bc0-4b2a-b881-e0286630c687",
   "metadata": {},
   "outputs": [],
   "source": [
    "In object-oriented programming (OOP), abstraction is a fundamental concept that focuses on representing essential features and behaviors of real-world objects in a simplified manner. It involves separating the essential characteristics of an object from the details that are not relevant to the current context.\n",
    "\n",
    "Abstraction provides a way to create abstract classes and interfaces that define common attributes and behaviors for a group of objects. These abstract entities serve as templates or blueprints for creating concrete objects. They allow us to define a common structure and behavior that can be shared among multiple objects.\n",
    "\n",
    "An example of abstraction can be seen in a class hierarchy representing different types of vehicles. We can have an abstract base class called \"Vehicle,\" which defines common attributes and behaviors shared by all vehicles, such as \"speed\" and \"fuel consumption.\" The \"Vehicle\" class can have abstract methods like \"startEngine()\" and \"stopEngine()\" that provide a common interface but don't provide any implementation details.\n",
    "\n",
    "python\n",
    "\n",
    "abstract class Vehicle:\n",
    "    def __init__(self, speed):\n",
    "        self.speed = speed\n",
    "    \n",
    "    def startEngine(self):\n",
    "        pass\n",
    "    \n",
    "    def stopEngine(self):\n",
    "        pass\n",
    "\n",
    "class Car(Vehicle):\n",
    "    def __init__(self, speed, brand):\n",
    "        super().__init__(speed)\n",
    "        self.brand = brand\n",
    "    \n",
    "    def startEngine(self):\n",
    "        print(\"Car engine started.\")\n",
    "    \n",
    "    def stopEngine(self):\n",
    "        print(\"Car engine stopped.\")\n",
    "\n",
    "class Bike(Vehicle):\n",
    "    def __init__(self, speed, type):\n",
    "        super().__init__(speed)\n",
    "        self.type = type\n",
    "    \n",
    "    def startEngine(self):\n",
    "        print(\"Bike engine started.\")\n",
    "    \n",
    "    def stopEngine(self):\n",
    "        print(\"Bike engine stopped.\")\n",
    "In this example, the \"Vehicle\" class is an abstract class, and it cannot be instantiated directly. The \"Car\" and \"Bike\" classes are concrete classes that inherit from the \"Vehicle\" class and provide their own implementation for the abstract methods.\n",
    "\n",
    "By using abstraction, we can define a common structure and behavior for all vehicles, while allowing each specific type of vehicle to implement its own version of the abstract methods. This approach promotes code reusability, maintainability, and modularity.\n"
   ]
  },
  {
   "cell_type": "markdown",
   "id": "c46aedb5-fbc4-4af8-818f-3a49760e1af6",
   "metadata": {},
   "source": [
    "Q2. Differentiate between Abstract and Encapsulation. Explain with an example."
   ]
  },
  {
   "cell_type": "code",
   "execution_count": null,
   "id": "90fb4d8c-bd69-47f2-8e80-099c64863d13",
   "metadata": {},
   "outputs": [],
   "source": [
    "Abstraction and encapsulation are two important concepts in object-oriented programming, but they serve different purposes.\n",
    "\n",
    "Abstraction:\n",
    "\n",
    "Abstraction focuses on representing essential features and behaviors of real-world objects in a simplified manner.\n",
    "It involves hiding unnecessary details and exposing only the relevant information to the user.\n",
    "Abstraction is achieved through the use of abstract classes and interfaces.\n",
    "It helps in creating a common structure and behavior that can be shared among multiple objects.\n",
    "Example: Consider a media player application that supports various file formats such as MP3, WAV, and FLAC. We can define an abstract class called \"MediaPlayer\" that provides common functionalities like \"play,\" \"pause,\" and \"stop.\" The specific implementations for each file format will be provided by concrete classes like \"MP3Player,\" \"WAVPlayer,\" and \"FLACPlayer.\" The abstract class defines the common interface and behavior, abstracting away the specific details of each file format.\n",
    "Encapsulation:\n",
    "\n",
    "Encapsulation focuses on bundling data and related behaviors into a single unit called a class.\n",
    "It hides the internal implementation details and provides controlled access to the data through methods or properties.\n",
    "Encapsulation helps in achieving data security, modularity, and code maintainability.\n",
    "It is typically implemented using access modifiers (e.g., public, private, protected) to control the visibility and accessibility of class members.\n",
    "Example: Consider a class called \"Employee\" that represents an employee in a company. The class encapsulates the employee's data, such as name, age, and salary, and provides methods to access and manipulate this data. The internal details of how the data is stored or processed are hidden from the user. For example, the \"salary\" attribute may be made private and can only be accessed or modified through public methods like \"getSalary()\" and \"setSalary()\". This ensures that the data is accessed and modified in a controlled manner, maintaining data integrity and security.\n",
    "In summary, abstraction focuses on simplifying complex systems by defining common structures and behaviors, while encapsulation focuses on bundling data and related behaviors into a single unit and controlling its access. Both concepts play important roles in achieving code organization, modularity, and maintainability in object-oriented programming.\n"
   ]
  },
  {
   "cell_type": "markdown",
   "id": "3b004c55-70d2-40de-a3a1-03bbdb96e529",
   "metadata": {},
   "source": [
    "Q3. What is abc module in python? Why is it used?"
   ]
  },
  {
   "cell_type": "code",
   "execution_count": null,
   "id": "1b0ff9db-23ea-4d27-92ab-86a9d2fc084e",
   "metadata": {},
   "outputs": [],
   "source": [
    "The abc module in Python stands for \"Abstract Base Classes.\" It provides mechanisms for defining abstract base classes in Python. Abstract base classes are classes that cannot be instantiated directly but are meant to be subclassed by other classes.\n",
    "\n",
    "The abc module is used to implement abstraction in Python and enforce a certain structure or behavior in the subclasses. It allows you to define abstract methods, which are methods without any implementation details, and enforce that the subclasses provide their own implementation for those methods. It also allows you to define abstract properties and class-level requirements.\n",
    "\n",
    "The abc module provides the ABC class as the base class for creating abstract base classes. By inheriting from ABC, a class becomes an abstract base class. The module also provides decorators such as @abstractmethod, @abstractproperty, and @abstractclassmethod to mark methods and properties as abstract.\n",
    "\n",
    "Here's an example that demonstrates the usage of the abc module:\n",
    "\n",
    "python\n",
    "\n",
    "from abc import ABC, abstractmethod\n",
    "\n",
    "class Shape(ABC):\n",
    "    @abstractmethod\n",
    "    def area(self):\n",
    "        pass\n",
    "    \n",
    "    @abstractmethod\n",
    "    def perimeter(self):\n",
    "        pass\n",
    "\n",
    "class Rectangle(Shape):\n",
    "    def __init__(self, length, width):\n",
    "        self.length = length\n",
    "        self.width = width\n",
    "    \n",
    "    def area(self):\n",
    "        return self.length * self.width\n",
    "    \n",
    "    def perimeter(self):\n",
    "        return 2 * (self.length + self.width)\n",
    "\n",
    "class Circle(Shape):\n",
    "    def __init__(self, radius):\n",
    "        self.radius = radius\n",
    "    \n",
    "    def area(self):\n",
    "        return 3.14 * self.radius * self.radius\n",
    "    \n",
    "    def perimeter(self):\n",
    "        return 2 * 3.14 * self.radius\n",
    "\n",
    "# Trying to instantiate the abstract base class raises an error\n",
    "# shape = Shape()  # TypeError: Can't instantiate abstract class Shape with abstract methods area, perimeter\n",
    "\n",
    "rectangle = Rectangle(5, 3)\n",
    "print(rectangle.area())  # Output: 15\n",
    "print(rectangle.perimeter())  # Output: 16\n",
    "\n",
    "circle = Circle(7)\n",
    "print(circle.area())  # Output: 153.86\n",
    "print(circle.perimeter())  # Output: 43.96\n",
    "In this example, the Shape class is an abstract base class that defines the methods area() and perimeter() as abstract methods using the @abstractmethod decorator. The Rectangle and Circle classes are concrete subclasses that inherit from Shape and provide their own implementations for the abstract methods.\n",
    "\n",
    "By using the abc module, we can ensure that any class inheriting from Shape must implement the abstract methods area() and perimeter(). This helps in enforcing a certain structure or behavior across different subclasses and promotes code consistency.\n"
   ]
  },
  {
   "cell_type": "markdown",
   "id": "a921a7c3-f938-4897-a2dc-3aa28047f024",
   "metadata": {},
   "source": [
    "Q4. How can we achieve data abstraction?"
   ]
  },
  {
   "cell_type": "code",
   "execution_count": null,
   "id": "d69d47a6-b2d9-4017-abf2-e5d06b2e2794",
   "metadata": {},
   "outputs": [],
   "source": [
    "In Python, we can achieve data abstraction through various techniques. Here are a few commonly used approaches:\n",
    "\n",
    "Encapsulation:\n",
    "Encapsulation is a fundamental principle of data abstraction. It involves bundling data and related behaviors into a single unit called a class. The class hides the internal implementation details of the data and provides controlled access through methods or properties. By defining appropriate access modifiers (e.g., public, private, protected), we can control the visibility and accessibility of class members, thereby achieving data abstraction.\n",
    "\n",
    "Getters and Setters:\n",
    "Getters and setters are methods used to access and modify the internal data of an object. They provide an additional layer of abstraction by encapsulating the data and providing controlled access. By using getters and setters, we can define specific rules or validations for accessing and modifying the data. This helps in maintaining data integrity and ensuring proper data abstraction.\n",
    "\n",
    "Properties:\n",
    "Properties are a powerful feature in Python that allows us to define methods that can be accessed like attributes. Properties provide an elegant way to encapsulate data and add behavior to attribute access or modification. By using properties, we can control how data is accessed, modified, or computed, providing a higher level of data abstraction.\n",
    "\n",
    "Abstract Base Classes (ABC):\n",
    "The abc module, as mentioned in a previous question, provides mechanisms for defining abstract base classes in Python. Abstract base classes allow us to define common interfaces or structures that subclasses must adhere to. By defining abstract methods or properties in an abstract base class, we can enforce that the subclasses provide their own implementations. This promotes data abstraction by providing a common structure while hiding the specific details of each subclass.\n",
    "\n",
    "By employing these techniques, we can achieve data abstraction in Python. The main idea is to hide unnecessary implementation details, expose only relevant information to the user, and define proper interfaces or structures for accessing and modifying the data. This way, we can simplify the usage and understanding of complex data structures or objects and promote code maintainability and reusability.\n"
   ]
  },
  {
   "cell_type": "markdown",
   "id": "3a98787f-cb68-4563-bb73-f227cfcac7ec",
   "metadata": {},
   "source": [
    "Q5. Can we create an instance of an abstract class? Explain your answer."
   ]
  },
  {
   "cell_type": "code",
   "execution_count": null,
   "id": "8c394aad-fa1f-4a37-90b1-7e4d49c1d7f5",
   "metadata": {},
   "outputs": [],
   "source": [
    "No, we cannot create an instance of an abstract class in Python. Abstract classes are designed to be incomplete and act as blueprints for subclasses to inherit from. They are meant to be subclassed and provide a structure or interface that subclasses must adhere to.\n",
    "\n",
    "Attempting to create an instance of an abstract class directly will result in a TypeError. This is because abstract classes have abstract methods that lack implementation details. As a result, the abstract class itself is considered incomplete and cannot be instantiated.\n",
    "\n",
    "Here's an example to illustrate the inability to instantiate an abstract class:\n",
    "\n",
    "python\n",
    "\n",
    "from abc import ABC, abstractmethod\n",
    "\n",
    "class AbstractClass(ABC):\n",
    "    @abstractmethod\n",
    "    def abstract_method(self):\n",
    "        pass\n",
    "\n",
    "# Trying to create an instance of the abstract class raises an error\n",
    "# obj = AbstractClass()  # TypeError: Can't instantiate abstract class AbstractClass with abstract methods abstract_method\n",
    "In this example, the AbstractClass is an abstract class that contains an abstract method abstract_method(). If we try to create an instance of AbstractClass, a TypeError is raised, stating that we cannot instantiate an abstract class with abstract methods.\n",
    "\n",
    "To utilize an abstract class, we need to create a concrete subclass that inherits from the abstract class and provides implementations for all the abstract methods. It is the responsibility of the subclasses to provide the missing implementations and instantiate objects based on the completed class hierarchy.\n",
    "\n",
    "By enforcing this behavior, Python ensures that abstract classes are used as templates and serve as a way to define a common structure or behavior for subclasses, rather than being directly instantiated.\n"
   ]
  }
 ],
 "metadata": {
  "kernelspec": {
   "display_name": "Python 3 (ipykernel)",
   "language": "python",
   "name": "python3"
  },
  "language_info": {
   "codemirror_mode": {
    "name": "ipython",
    "version": 3
   },
   "file_extension": ".py",
   "mimetype": "text/x-python",
   "name": "python",
   "nbconvert_exporter": "python",
   "pygments_lexer": "ipython3",
   "version": "3.10.8"
  }
 },
 "nbformat": 4,
 "nbformat_minor": 5
}
