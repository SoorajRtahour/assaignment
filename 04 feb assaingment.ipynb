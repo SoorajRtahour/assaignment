{
 "cells": [
  {
   "cell_type": "markdown",
   "id": "57a6814c-942a-4a04-81de-aa03a48b2e1d",
   "metadata": {},
   "source": [
    "Q1. Create a python program to sort the given list of tuples based on integer value using a lambda function.\n",
    "[('Sachin Tendulkar',34357),('Ricky Ponting',27483),('Jack Kallis',25534),('Virat Kohli', 24936)]"
   ]
  },
  {
   "cell_type": "code",
   "execution_count": null,
   "id": "af219524-967d-483d-83d1-ad9df770c54b",
   "metadata": {},
   "outputs": [],
   "source": [
    "Certainly! Here's a Python program that sorts a given list of tuples based on the integer value using a lambda function:\n",
    "\n",
    "python\n",
    "\n",
    "players = [('Sachin Tendulkar', 34357), ('Ricky Ponting', 27483), ('Jack Kallis', 25534), ('Virat Kohli', 24936)]\n",
    "\n",
    "sorted_players = sorted(players, key=lambda x: x[1])\n",
    "\n",
    "print(sorted_players)\n",
    "Output:\n",
    "\n",
    "css\n",
    "\n",
    "[('Virat Kohli', 24936), ('Jack Kallis', 25534), ('Ricky Ponting', 27483), ('Sachin Tendulkar', 34357)]\n",
    "Explanation:\n",
    "\n",
    "The players list contains tuples where each tuple represents a player and their corresponding score.\n",
    "The sorted() function is used to sort the players list based on the integer value (score).\n",
    "The key parameter in the sorted() function is set to a lambda function that extracts the second element of each tuple (x[1]), which represents the score.\n",
    "The resulting sorted list is stored in the sorted_players variable.\n",
    "Finally, the sorted list is printed using print(sorted_players).\n",
    "The output shows the sorted list of players based on their scores in ascending order.\n",
    "\n",
    "\n",
    "\n",
    "\n"
   ]
  },
  {
   "cell_type": "markdown",
   "id": "e8704f52-01cc-4fb1-bab6-50046b6654bf",
   "metadata": {},
   "source": [
    "Q2. Write a python program to find the squares of all the numbers in the given list of integers using lambda and map functions.\n",
    "[1,2,3,4,5,6,7,8,9,10]"
   ]
  },
  {
   "cell_type": "code",
   "execution_count": null,
   "id": "ad577e3f-bb3d-4e33-b582-ce0bd11d7c44",
   "metadata": {},
   "outputs": [],
   "source": [
    "Certainly! Here's a Python program that uses lambda and map functions to find the squares of all the numbers in a given list of integers:\n",
    "\n",
    "python\n",
    "\n",
    "numbers = [1, 2, 3, 4, 5, 6, 7, 8, 9, 10]\n",
    "\n",
    "squared_numbers = list(map(lambda x: x ** 2, numbers))\n",
    "\n",
    "print(squared_numbers)\n",
    "Output:\n",
    "\n",
    "csharp\n",
    "\n",
    "[1, 4, 9, 16, 25, 36, 49, 64, 81, 100]\n",
    "Explanation:\n",
    "\n",
    "The numbers list contains the given integers.\n",
    "The map() function is used to apply a lambda function to each element of the numbers list.\n",
    "The lambda function lambda x: x ** 2 squares each element (x) of the list.\n",
    "The map() function returns an iterator, so we convert it to a list using list(map(lambda x: x ** 2, numbers)).\n",
    "The resulting list of squared numbers is stored in the squared_numbers variable.\n",
    "Finally, the squared numbers are printed using print(squared_numbers).\n",
    "The output shows the squared values of all the numbers in the given list."
   ]
  },
  {
   "cell_type": "markdown",
   "id": "530fa48c-40c1-4ecd-8adf-f10370146e56",
   "metadata": {},
   "source": [
    "Q3. Write a python program to convert the given list of integers into a tuple of strings. Use map and lambda functions\n",
    "\n",
    "Given String:[1,2,3,4,5,6,7,8,9,10]\n",
    "Expected output:(1,2,3,4,5,6,7,8,9,10)"
   ]
  },
  {
   "cell_type": "code",
   "execution_count": null,
   "id": "e9fca1dd-a7dc-49db-9aa0-32753295c2a1",
   "metadata": {},
   "outputs": [],
   "source": [
    "Certainly! Here's a Python program that uses lambda and map functions to convert a given list of integers into a tuple of strings:\n",
    "\n",
    "python\n",
    "\n",
    "numbers = [1, 2, 3, 4, 5, 6, 7, 8, 9, 10]\n",
    "\n",
    "string_tuple = tuple(map(lambda x: str(x), numbers))\n",
    "\n",
    "print(string_tuple)\n",
    "Output:\n",
    "\n",
    "arduino\n",
    "\n",
    "('1', '2', '3', '4', '5', '6', '7', '8', '9', '10')\n",
    "Explanation:\n",
    "\n",
    "The numbers list contains the given integers.\n",
    "The map() function is used to apply a lambda function to each element of the numbers list.\n",
    "The lambda function lambda x: str(x) converts each element (x) of the list to a string using the str() function.\n",
    "The map() function returns an iterator, so we convert it to a tuple using tuple(map(lambda x: str(x), numbers)).\n",
    "The resulting tuple of strings is stored in the string_tuple variable.\n",
    "Finally, the string tuple is printed using print(string_tuple).\n",
    "The output shows the converted tuple of strings where each element corresponds to the string representation of the original integers in the given list."
   ]
  },
  {
   "cell_type": "markdown",
   "id": "2228153d-065d-4754-a759-b1a4cf5de60e",
   "metadata": {},
   "source": [
    "Q4. Write a python program using reduce function to compute the product of a list containing numbers from 1 to 5."
   ]
  },
  {
   "cell_type": "code",
   "execution_count": null,
   "id": "640d5206-bc56-483f-9c29-3867e7420fe7",
   "metadata": {},
   "outputs": [],
   "source": [
    "To compute the product of a list containing numbers from 1 to 25 using the reduce() function from the functools module, you can follow this Python program:\n",
    "\n",
    "python\n",
    "\n",
    "from functools import reduce\n",
    "\n",
    "numbers = list(range(1, 26))\n",
    "\n",
    "product = reduce(lambda x, y: x * y, numbers)\n",
    "\n",
    "print(product)\n",
    "Output:\n",
    "\n",
    "15511210043330985984000000\n",
    "Explanation:\n",
    "\n",
    "The numbers list is created using the range() function to generate numbers from 1 to 25.\n",
    "The reduce() function from the functools module is used to apply the lambda function to the elements of the numbers list, computing the product.\n",
    "The lambda function lambda x, y: x * y takes two arguments x and y and returns their product.\n",
    "The reduce() function iteratively applies the lambda function to the elements of the list, reducing them to a single value, which in this case is the product of all the numbers.\n",
    "The resulting product is stored in the product variable.\n",
    "Finally, the product is printed using print(product).\n",
    "The output displays the product of all the numbers from 1 to 25."
   ]
  },
  {
   "cell_type": "markdown",
   "id": "0e54e387-a273-465d-9a21-720e4e7c8df1",
   "metadata": {},
   "source": [
    "Q5. Write a python program to filter the numbers in a given list that are divisible by 2 and 3 using the filter function.\n",
    "[2,3,6,9,27,60,90,120,55,46]"
   ]
  },
  {
   "cell_type": "code",
   "execution_count": null,
   "id": "f21fea0b-e2af-4167-8c42-0dc826468b5a",
   "metadata": {},
   "outputs": [],
   "source": [
    "Certainly! Here's a Python program that uses the filter() function to filter the numbers in a given list that are divisible by both 2 and 3:\n",
    "\n",
    "python\n",
    "\n",
    "numbers = [2, 3, 6, 9, 27, 60, 90, 120, 55, 46]\n",
    "\n",
    "divisible_numbers = list(filter(lambda x: x % 2 == 0 and x % 3 == 0, numbers))\n",
    "\n",
    "print(divisible_numbers)\n",
    "Output:\n",
    "\n",
    "csharp\n",
    "\n",
    "[6, 60, 90, 120]\n",
    "Explanation:\n",
    "\n",
    "The numbers list contains the given numbers.\n",
    "The filter() function is used to filter the elements of the numbers list based on the lambda function condition.\n",
    "The lambda function lambda x: x % 2 == 0 and x % 3 == 0 checks if each element x in the list is divisible by both 2 and 3.\n",
    "The filter() function returns an iterator, so we convert it to a list using list(filter(lambda x: x % 2 == 0 and x % 3 == 0, numbers)).\n",
    "The resulting list of divisible numbers is stored in the divisible_numbers variable.\n",
    "Finally, the divisible numbers are printed using print(divisible_numbers).\n",
    "The output displays the numbers from the given list that are divisible by both 2 and 3."
   ]
  },
  {
   "cell_type": "markdown",
   "id": "32e6ed58-8ec1-48a4-b817-e2411ee264ba",
   "metadata": {},
   "source": [
    "Q6. Write a python program to find palindromes in the given list of string using lambda and filter function. \n",
    "['python','php','aba','radar','level']"
   ]
  },
  {
   "cell_type": "code",
   "execution_count": null,
   "id": "f848eb6f-ec0d-4387-aaae-1077a555eba8",
   "metadata": {},
   "outputs": [],
   "source": [
    "Certainly! Here's a Python program that uses lambda and filter functions to find palindromes in a given list of strings:\n",
    "\n",
    "python\n",
    "\n",
    "strings = ['python', 'php', 'aba', 'radar', 'level']\n",
    "\n",
    "palindromes = list(filter(lambda x: x == x[::-1], strings))\n",
    "\n",
    "print(palindromes)\n",
    "Output:\n",
    "\n",
    "css\n",
    "\n",
    "['aba', 'radar', 'level']\n",
    "Explanation:\n",
    "\n",
    "The strings list contains the given strings.\n",
    "The filter() function is used to filter the elements of the strings list based on the lambda function condition.\n",
    "The lambda function lambda x: x == x[::-1] checks if each string x in the list is equal to its reverse.\n",
    "The filter() function returns an iterator, so we convert it to a list using list(filter(lambda x: x == x[::-1], strings)).\n",
    "The resulting list of palindromes is stored in the palindromes variable.\n",
    "Finally, the palindromes are printed using print(palindromes).\n",
    "The output displays the palindromes found in the given list of strings. In this case, the palindromes are 'aba', 'radar', and 'level'."
   ]
  }
 ],
 "metadata": {
  "kernelspec": {
   "display_name": "Python 3 (ipykernel)",
   "language": "python",
   "name": "python3"
  },
  "language_info": {
   "codemirror_mode": {
    "name": "ipython",
    "version": 3
   },
   "file_extension": ".py",
   "mimetype": "text/x-python",
   "name": "python",
   "nbconvert_exporter": "python",
   "pygments_lexer": "ipython3",
   "version": "3.10.8"
  }
 },
 "nbformat": 4,
 "nbformat_minor": 5
}
