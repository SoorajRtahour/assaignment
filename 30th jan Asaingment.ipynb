{
 "cells": [
  {
   "cell_type": "markdown",
   "id": "ea5b6dd5-93a4-432e-a242-479dbd4d87db",
   "metadata": {},
   "source": [
    "Q1. Write a program to accept percentage from the user and display the grade according to the following criteria:\n",
    "    Marks              Grade\n",
    "    >90                 A\n",
    "    >80 and <=90        B\n",
    "    >=60 and <=80       C\n",
    "    below 60            D"
   ]
  },
  {
   "cell_type": "code",
   "execution_count": 14,
   "id": "3e9e6572-f490-46d2-8138-4c3ff3a08dde",
   "metadata": {},
   "outputs": [
    {
     "name": "stdin",
     "output_type": "stream",
     "text": [
      "obtain marks 55\n"
     ]
    },
    {
     "name": "stdout",
     "output_type": "stream",
     "text": [
      "Grade D\n"
     ]
    }
   ],
   "source": [
    "marks = int(input(\"obtain marks\"))\n",
    "if marks >90:\n",
    "    print(\"Grade A\")\n",
    "elif marks >80 and marks <=90:\n",
    "    print(\"Grade B\")\n",
    "elif marks >=60 and marks <=80:\n",
    "    print(\"Grade C\")\n",
    "else:\n",
    "    print(\"Grade D\")"
   ]
  },
  {
   "cell_type": "markdown",
   "id": "6271c9ad-9bae-4c61-b1b7-70ceb343ddbf",
   "metadata": {},
   "source": [
    "Q2. Write a program to accept the cost price of a bike and display the road tax to be paid according to the following criteria:\n",
    "    Tax         Cost Price(in Rs)\n",
    "    15%          >100000\n",
    "    10%          >50000 and <= 100000\n",
    "    5%           <= 50000"
   ]
  },
  {
   "cell_type": "code",
   "execution_count": 28,
   "id": "b39b857c-83ba-4274-8e9f-5bbfbda9bd4a",
   "metadata": {},
   "outputs": [
    {
     "name": "stdin",
     "output_type": "stream",
     "text": [
      "enter price 50000\n"
     ]
    },
    {
     "name": "stdout",
     "output_type": "stream",
     "text": [
      "5% Road Tax\n"
     ]
    }
   ],
   "source": [
    "cost = int(input(\"enter price\"))\n",
    "if cost >100000:\n",
    "    print(\"15% Road Tax\")\n",
    "elif cost >50000 and  cost <= 100000:\n",
    "    print(\"10% Road Tax\")\n",
    "else:\n",
    "    print (\"5% Road Tax\")\n"
   ]
  },
  {
   "cell_type": "markdown",
   "id": "b395528e-d80c-4358-8c72-f2501f215658",
   "metadata": {},
   "source": [
    "Q3. Accept any city from the user and display monuments of that city."
   ]
  },
  {
   "cell_type": "code",
   "execution_count": 19,
   "id": "dfdc2786-c69e-4044-891b-a92840b0ac9f",
   "metadata": {},
   "outputs": [
    {
     "ename": "NameError",
     "evalue": "name 'Delhi' is not defined",
     "output_type": "error",
     "traceback": [
      "\u001b[0;31m---------------------------------------------------------------------------\u001b[0m",
      "\u001b[0;31mNameError\u001b[0m                                 Traceback (most recent call last)",
      "Cell \u001b[0;32mIn[19], line 1\u001b[0m\n\u001b[0;32m----> 1\u001b[0m city \u001b[38;5;241m=\u001b[39m \u001b[43mDelhi\u001b[49m\n\u001b[1;32m      2\u001b[0m \u001b[38;5;28;01mif\u001b[39;00m Delhi \u001b[38;5;241m==\u001b[39m RedFort:\n\u001b[1;32m      3\u001b[0m     \u001b[38;5;28mprint\u001b[39m(\u001b[38;5;124m\"\u001b[39m\u001b[38;5;124mRed Fort\u001b[39m\u001b[38;5;124m\"\u001b[39m)\n",
      "\u001b[0;31mNameError\u001b[0m: name 'Delhi' is not defined"
     ]
    }
   ],
   "source": [
    "city = Delhi\n",
    "if Delhi == RedFort:\n",
    "    print(\"Red Fort\")\n",
    "elif Agra == TajMahal:\n",
    "    print(\"Taj Mahal \")\n",
    "else:\n",
    "    print(\"Jai Mahal\")"
   ]
  },
  {
   "cell_type": "code",
   "execution_count": null,
   "id": "5b2054e1-97ff-4501-823a-3735db2ad700",
   "metadata": {},
   "outputs": [],
   "source": []
  },
  {
   "cell_type": "markdown",
   "id": "4a36c83a-5395-4328-8396-5234545736e5",
   "metadata": {},
   "source": [
    "Q4. Cheack how many times a given number can be divided by 3 before it is less than or equal to 10."
   ]
  },
  {
   "cell_type": "code",
   "execution_count": null,
   "id": "df2746a3-5d74-4648-b14e-09ccbca1c684",
   "metadata": {},
   "outputs": [],
   "source": [
    "Ans. Sure! Here's a Python program that calculates how many times a given number can be divided by 3 before it becomes less than or equal to 10:\n",
    "\n",
    "python\n",
    "\n",
    "number = int(input(\"Enter a number: \"))\n",
    "count = 0\n",
    "\n",
    "while number > 10:\n",
    "    number /= 3\n",
    "    count += 1\n",
    "\n",
    "print(\"The number can be divided by 3\", count, \"times before it is less than or equal to 10.\")\n",
    "In this program, we take the input number from the user using the 'input()' function. The 'number' variable stores the entered value, and the 'count' variable keeps track of the number of divisions.\n",
    "\n",
    "We use a 'while' loop to repeatedly divide the 'number' by 3 until it becomes less than or equal to 10. In each iteration, we divide the 'number' by 3 using the '/=' operator and increment the 'count' by 1.\n",
    "\n",
    "Once the 'number' becomes less than or equal to 10, the 'while' loop exits. Finally, we print the number of times the given number can be divided by 3 before it is less than or equal to 10.\n",
    "\n",
    "\n",
    "\n",
    "\n"
   ]
  },
  {
   "cell_type": "markdown",
   "id": "c7653a67-aa00-4910-8db4-2975e99ded18",
   "metadata": {},
   "source": [
    "Q5. Why and whwn to use while loop in python give a detailed \n",
    "description with example "
   ]
  },
  {
   "cell_type": "code",
   "execution_count": null,
   "id": "ba9186d9-70a9-437c-af3c-29f233fac71f",
   "metadata": {},
   "outputs": [],
   "source": [
    "Ans. A while loop in Python is used when you want to repeat a block of code until a certain condition is no longer true. It provides a way to execute a set of statements multiple times based on a condition, allowing for more flexible looping behavior compared to a for loop.\n",
    "\n",
    "Here are some reasons why and when you might use a while loop in Python:\n",
    "\n",
    "1. Unknown Iteration Count: If you don't know in advance how many times you need to iterate, a while loop can be a good choice. You can set up the loop to continue until a specific condition is met or a certain event occurs.\n",
    "\n",
    "2. Dynamic Looping: While loops are suitable when the termination condition is dependent on some changing factors within the loop. For example, if you want to keep taking user input until they enter a specific value or until a certain condition is satisfied, a while loop can handle this dynamic looping behavior.\n",
    "\n",
    "3. Condition-Based Looping: If you need to repeatedly execute a block of code as long as a specific condition is true, a while loop is a great fit. It allows you to continuously check a condition before each iteration and break out of the loop when the condition becomes false.\n",
    "\n",
    "4. Event-Driven Programming: While loops are commonly used in event-driven programming scenarios, where the loop waits for an event to occur. For example, waiting for user input, listening for network activity, or monitoring sensor readings.\n",
    "\n",
    "5. Complex Looping Conditions: While loops provide flexibility to handle complex looping conditions that cannot be easily expressed using a for loop. You can control the loop based on multiple conditions, combined using logical operators such as 'and' and 'or'.\n",
    "\n",
    "However, it's important to use caution when using a while loop to avoid infinite loops. An infinite loop occurs when the condition specified in the while loop is always true, causing the loop to run indefinitely. To prevent this, ensure that the loop condition eventually becomes false or include a mechanism to break out of the loop when necessary.\n",
    "\n",
    "In summary, while loops are beneficial when the number of iterations is unknown, when you need dynamic or condition-based looping, and in event-driven programming scenarios. They provide flexibility and allow you to control the flow of your program based on changing conditions."
   ]
  },
  {
   "cell_type": "markdown",
   "id": "8ce5e10e-d17e-4387-8ed4-5933396dd827",
   "metadata": {},
   "source": [
    "Q6. Use nested while loop to print 3 different pattern."
   ]
  },
  {
   "cell_type": "code",
   "execution_count": null,
   "id": "f530ddee-8408-4816-b70f-16d4846d3e45",
   "metadata": {},
   "outputs": [],
   "source": [
    "Ans. Certainly! Here are three different patterns printed using nested while loops in Python:\n",
    "\n",
    "Pattern 1:\n",
    "\n",
    "markdown\n",
    "\n",
    "*\n",
    "**\n",
    "***\n",
    "****\n",
    "*****\n",
    "python\n",
    "\n",
    "# Pattern 1\n",
    "row = 1\n",
    "while row <= 5:\n",
    "    column = 1\n",
    "    while column <= row:\n",
    "        print(\"*\", end=\"\")\n",
    "        column += 1\n",
    "    print()\n",
    "    row += 1\n",
    "Pattern 2:\n",
    "\n",
    "yaml\n",
    "\n",
    "1\n",
    "22\n",
    "333\n",
    "4444\n",
    "55555\n",
    "python\n",
    "\n",
    "# Pattern 2\n",
    "row = 1\n",
    "while row <= 5:\n",
    "    column = 1\n",
    "    while column <= row:\n",
    "        print(row, end=\"\")\n",
    "        column += 1\n",
    "    print()\n",
    "    row += 1\n",
    "Pattern 3:\n",
    "\n",
    "yaml\n",
    "\n",
    "54321\n",
    "5432\n",
    "543\n",
    "54\n",
    "5\n",
    "python\n",
    "\n",
    "# Pattern 3\n",
    "row = 5\n",
    "while row >= 1:\n",
    "    column = 5\n",
    "    while column >= row:\n",
    "        print(column, end=\"\")\n",
    "        column -= 1\n",
    "    print()\n",
    "    row -= 1\n",
    "In each pattern, we use nested while loops to control the printing of characters or numbers. The outer while loop is responsible for managing the rows, and the inner while loop determines how many characters or numbers are printed on each row.\n",
    "\n",
    "Note: In the code examples, I've used 'print()' without any arguments to print on a new line."
   ]
  },
  {
   "cell_type": "markdown",
   "id": "8f0fd0a9-b423-4c0f-8e4d-51f90aea43d7",
   "metadata": {},
   "source": [
    "Q7. Reverse a while loop to display numbers from 10 to 1."
   ]
  },
  {
   "cell_type": "code",
   "execution_count": 7,
   "id": "367894cc-e1ad-440f-9704-b4c350f7472b",
   "metadata": {},
   "outputs": [
    {
     "name": "stdout",
     "output_type": "stream",
     "text": [
      "10\n",
      "9\n",
      "8\n",
      "7\n",
      "6\n",
      "5\n",
      "4\n",
      "3\n",
      "2\n",
      "1\n"
     ]
    }
   ],
   "source": [
    "num = 10\n",
    "while num >= 1:\n",
    "    print(num)\n",
    "    num -= 1"
   ]
  },
  {
   "cell_type": "markdown",
   "id": "1c4dd0d3-086d-42e5-a5ae-c3311932c431",
   "metadata": {},
   "source": [
    "Q8. Reverse a while loop to display numbers from 10 to 1."
   ]
  },
  {
   "cell_type": "code",
   "execution_count": 8,
   "id": "167ea0fe-ac52-4284-8449-879d2fc2e430",
   "metadata": {},
   "outputs": [
    {
     "name": "stdout",
     "output_type": "stream",
     "text": [
      "10\n",
      "9\n",
      "8\n",
      "7\n",
      "6\n",
      "5\n",
      "4\n",
      "3\n",
      "2\n",
      "1\n"
     ]
    }
   ],
   "source": [
    "num = 10\n",
    "while num >= 1:\n",
    "    print(num)\n",
    "    num -= 1"
   ]
  }
 ],
 "metadata": {
  "kernelspec": {
   "display_name": "Python 3 (ipykernel)",
   "language": "python",
   "name": "python3"
  },
  "language_info": {
   "codemirror_mode": {
    "name": "ipython",
    "version": 3
   },
   "file_extension": ".py",
   "mimetype": "text/x-python",
   "name": "python",
   "nbconvert_exporter": "python",
   "pygments_lexer": "ipython3",
   "version": "3.10.8"
  }
 },
 "nbformat": 4,
 "nbformat_minor": 5
}
